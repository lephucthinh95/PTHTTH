{
 "cells": [
  {
   "cell_type": "markdown",
   "metadata": {},
   "source": [
    "MSSV: 20043781\n",
    "\n",
    "Họ và tên: Lê Phúc Thịnh\n",
    "\n",
    "Lớp học phần: 420300207401\n",
    "\n",
    "Nhóm thực hành 3"
   ]
  },
  {
   "cell_type": "markdown",
   "metadata": {},
   "source": [
    "# 1. Decision Making and Loops\n",
    "---"
   ]
  },
  {
   "cell_type": "markdown",
   "metadata": {},
   "source": [
    "## 1.1. Viết chương trình kiểm tra một số là số dương, số âm hay bằng không không.\n",
    "\n",
    "Sử dụng 2 dạng của câu lệnh rễ nhánh: \n",
    "\n",
    "if ... elif ... else\n",
    "\n",
    "Nested if"
   ]
  },
  {
   "cell_type": "code",
   "execution_count": 1,
   "metadata": {},
   "outputs": [
    {
     "name": "stdout",
     "output_type": "stream",
     "text": [
      "Số dương\n"
     ]
    }
   ],
   "source": [
    "# Dạng 1 if ... elif ... else\n",
    "num = float(input(\"Nhập một vào số: \"))\n",
    "if (num < 0):\n",
    "    print(\"Số âm\")\n",
    "elif (num > 0):\n",
    "  print(\"Số dương\")\n",
    "else: print(\"Zero\")"
   ]
  },
  {
   "cell_type": "code",
   "execution_count": 2,
   "metadata": {},
   "outputs": [
    {
     "name": "stdout",
     "output_type": "stream",
     "text": [
      "Số âm\n"
     ]
    }
   ],
   "source": [
    "# Dạng 2: Nested if\n",
    "#num = float(input(\"Nhập vào một số: \"))\n",
    "\n",
    "### START CODE HERE ### \n",
    "num = float(input(\"Nhập vào một số: \"))\n",
    "if num >= 0:\n",
    "    if num == 0:\n",
    "        print(\"Zero\")\n",
    "    else:\n",
    "        print(\"Số dương\")\n",
    "else:\n",
    "    print(\"Số âm\")\n",
    " \n",
    "    \n",
    "\n",
    "### END CODE HERE ###"
   ]
  },
  {
   "cell_type": "markdown",
   "metadata": {},
   "source": [
    "## 1.2. Viết chương trình kiểm tra một năm có phải năm nhuận không.\n",
    "\n",
    "Năm nhuận là năm chia hết cho 4, trừ những năm đầu thế kỷ (chia hết cho 100). Những năm đầu thế kỷ là năm nhuận khi nó chia hết cho 400 (ví dụ năm 2100 không phải là năm nhuận, 2104 là năm nhuận).\n",
    "\n",
    "Sử dụng 2 dạng của câu lệnh rễ nhánh: \n",
    "\n",
    "if ... elif ... else\n",
    "\n",
    "Nested if"
   ]
  },
  {
   "cell_type": "code",
   "execution_count": 1,
   "metadata": {},
   "outputs": [
    {
     "name": "stdout",
     "output_type": "stream",
     "text": [
      "2100 không phải là năm nhuận\n"
     ]
    }
   ],
   "source": [
    "# Sử dụng lệnh if lồng nhau\n",
    "year = int(input(\"Nhập năm: \"))\n",
    "\n",
    "if (year % 4) == 0:\n",
    "    if (year % 100) == 0:\n",
    "        if (year % 400) == 0:\n",
    "            print(\"{0} là năm nhuận\".format(year))\n",
    "        else:\n",
    "            print(\"{0} không phải là năm nhuận\".format(year))\n",
    "    else:\n",
    "        print(\"{0} là năm nhuận\".format(year))\n",
    "else:\n",
    "    print(\"{0} không phải là năm nhuận\".format(year))"
   ]
  },
  {
   "cell_type": "code",
   "execution_count": 4,
   "metadata": {},
   "outputs": [
    {
     "name": "stdout",
     "output_type": "stream",
     "text": [
      "2018 là năm không nhuận\n"
     ]
    }
   ],
   "source": [
    "# Sử dụng lệnh if ... elif ... else\n",
    "year = int(input(\"Nhập năm: \"))\n",
    "\n",
    "### START CODE HERE ### \n",
    "if (year%4)==0 and (year%100)==0 and (year%400)==0:\n",
    "        print(\"{0} là năm nhuận\".format(year))\n",
    "elif (year%100)==0 and (year%4)==0:\n",
    "    print(\"{0} là năm không nhuận\".format(year))\n",
    "elif (year%4)==0 :\n",
    "    print(\"{0} là năm nhuận\".format(year)) \n",
    "else:\n",
    "    print(\"{0} là năm không nhuận\".format(year))\n",
    "\n",
    "### END CODE HERE ###"
   ]
  },
  {
   "cell_type": "markdown",
   "metadata": {},
   "source": []
  },
  {
   "cell_type": "markdown",
   "metadata": {},
   "source": [
    "## 1.3. Viết chương trình kiểm tra một số nguyên có phải số nguyên tố không. Nếu không phải là số nguyên tố in ra lý do."
   ]
  },
  {
   "cell_type": "code",
   "execution_count": 6,
   "metadata": {},
   "outputs": [
    {
     "name": "stdout",
     "output_type": "stream",
     "text": [
      "5 là số nguyên tố\n"
     ]
    }
   ],
   "source": [
    "num = int(input(\"Enter a number: \"))\n",
    "\n",
    "# Số nguyên tố phải lớn hơn 1\n",
    "if num > 1:\n",
    "    for i in range(2,num):\n",
    "        if (num % i) == 0:\n",
    "            ### START CODE HERE ### \n",
    "            print(num, \"không phải là số nguyên tố\")\n",
    "            break\n",
    "            ### END CODE HERE ###\n",
    "    else:\n",
    "        ### START CODE HERE ### \n",
    "        print(num, \"là số nguyên tố\")\n",
    "\n",
    "        ### END CODE HERE ###\n",
    "\n",
    "else:\n",
    "    print(num,\"không phải là số nguyên tố\")"
   ]
  },
  {
   "cell_type": "markdown",
   "metadata": {},
   "source": [
    "## 1.4. Viết chương trình in ra tất cả các số nguyên tố trong khoảng (a,b)"
   ]
  },
  {
   "cell_type": "code",
   "execution_count": 5,
   "metadata": {},
   "outputs": [
    {
     "name": "stdout",
     "output_type": "stream",
     "text": [
      "Prime numbers between 900 and 1000 are:\n",
      "907 911 919 929 937 941 947 953 967 971 977 983 991 997 "
     ]
    }
   ],
   "source": [
    "import math\n",
    "lower = 900\n",
    "upper = 1000\n",
    "\n",
    "print(\"Prime numbers between\", lower, \"and\", upper, \"are:\")\n",
    "\n",
    "for num in range(lower, upper + 1):\n",
    "    if num > 1:\n",
    "        ### START CODE HERE ### \n",
    "        # Sử dụng for ... else\n",
    "        for i in range(2, int(math.sqrt(num))+1):\n",
    "                if num % i == 0:\n",
    "                    break\n",
    "        else :\n",
    "                    print(num, end=' ')\n",
    "    \n",
    "\n",
    "        ### END CODE HERE ###"
   ]
  },
  {
   "cell_type": "markdown",
   "metadata": {},
   "source": [
    "## 1.5. Viết chương trình in ra 5 số Armstrong bé nhất.\n",
    "\n",
    "Một số nguyên dương gồm n chữ số được gọi là số Armstrong bậc n nếu\n",
    "\n",
    "abcd... = a^n + b^n + c^n + d^n + ...\n",
    "\n",
    "VD: 153 = 1*1*1 + 5*5*5 + 3*3*3 "
   ]
  },
  {
   "cell_type": "code",
   "execution_count": 15,
   "metadata": {},
   "outputs": [
    {
     "ename": "KeyboardInterrupt",
     "evalue": "",
     "output_type": "error",
     "traceback": [
      "\u001b[1;31m---------------------------------------------------------------------------\u001b[0m",
      "\u001b[1;31mKeyboardInterrupt\u001b[0m                         Traceback (most recent call last)",
      "\u001b[1;32mc:\\Users\\PC\\Downloads\\BTTH2_NhomTH_MSSV_HoVaTen.ipynb Cell 15\u001b[0m line \u001b[0;36m1\n\u001b[0;32m     <a href='vscode-notebook-cell:/c%3A/Users/PC/Downloads/BTTH2_NhomTH_MSSV_HoVaTen.ipynb#X16sZmlsZQ%3D%3D?line=11'>12</a>\u001b[0m temp \u001b[39m=\u001b[39m num\n\u001b[0;32m     <a href='vscode-notebook-cell:/c%3A/Users/PC/Downloads/BTTH2_NhomTH_MSSV_HoVaTen.ipynb#X16sZmlsZQ%3D%3D?line=13'>14</a>\u001b[0m \u001b[39m# Tính tổng mũ của các chữ số\u001b[39;00m\n\u001b[1;32m---> <a href='vscode-notebook-cell:/c%3A/Users/PC/Downloads/BTTH2_NhomTH_MSSV_HoVaTen.ipynb#X16sZmlsZQ%3D%3D?line=14'>15</a>\u001b[0m \u001b[39mwhile\u001b[39;00m temp \u001b[39m>\u001b[39m \u001b[39m0\u001b[39m:\n\u001b[0;32m     <a href='vscode-notebook-cell:/c%3A/Users/PC/Downloads/BTTH2_NhomTH_MSSV_HoVaTen.ipynb#X16sZmlsZQ%3D%3D?line=15'>16</a>\u001b[0m     digit \u001b[39m=\u001b[39m temp \u001b[39m%\u001b[39m \u001b[39m10\u001b[39m \u001b[39m# Tìm chữ số cuối cùng\u001b[39;00m\n\u001b[0;32m     <a href='vscode-notebook-cell:/c%3A/Users/PC/Downloads/BTTH2_NhomTH_MSSV_HoVaTen.ipynb#X16sZmlsZQ%3D%3D?line=16'>17</a>\u001b[0m     \u001b[39m### START CODE HERE ### \u001b[39;00m\n\u001b[0;32m     <a href='vscode-notebook-cell:/c%3A/Users/PC/Downloads/BTTH2_NhomTH_MSSV_HoVaTen.ipynb#X16sZmlsZQ%3D%3D?line=17'>18</a>\u001b[0m     \u001b[39m# Cộng thêm giá trị của chữ số vừa tìm được vào biến sum và\u001b[39;00m\n\u001b[0;32m     <a href='vscode-notebook-cell:/c%3A/Users/PC/Downloads/BTTH2_NhomTH_MSSV_HoVaTen.ipynb#X16sZmlsZQ%3D%3D?line=18'>19</a>\u001b[0m     \u001b[39m# thay đổi temp cho bước lặp tiếp theo\u001b[39;00m\n\u001b[1;32m   (...)\u001b[0m\n\u001b[0;32m     <a href='vscode-notebook-cell:/c%3A/Users/PC/Downloads/BTTH2_NhomTH_MSSV_HoVaTen.ipynb#X16sZmlsZQ%3D%3D?line=22'>23</a>\u001b[0m \n\u001b[0;32m     <a href='vscode-notebook-cell:/c%3A/Users/PC/Downloads/BTTH2_NhomTH_MSSV_HoVaTen.ipynb#X16sZmlsZQ%3D%3D?line=23'>24</a>\u001b[0m \u001b[39m# display the result\u001b[39;00m\n",
      "\u001b[1;31mKeyboardInterrupt\u001b[0m: "
     ]
    }
   ],
   "source": [
    "# initialize sum, count\n",
    "\n",
    "sum = 0\n",
    "count = 0\n",
    "num = 1\n",
    "\n",
    "# Biến count được sử dụng để đếm số Armstrong đã tìm được\n",
    "while count < 5:\n",
    "    # Chuyển số thành xâu và sử dụng hàm len để tính số chữ số\n",
    "    order = len(str(num))\n",
    "    \n",
    "    temp = num\n",
    "    \n",
    "    # Tính tổng mũ của các chữ số\n",
    "    while temp > 0:\n",
    "        digit = temp % 10 # Tìm chữ số cuối cùng\n",
    "        ### START CODE HERE ### \n",
    "        # Cộng thêm giá trị của chữ số vừa tìm được vào biến sum và\n",
    "        # thay đổi temp cho bước lặp tiếp theo\n",
    "\n",
    "\n",
    "        ### END CODE HERE ###\n",
    "\n",
    "    # display the result\n",
    "    if num == sum:\n",
    "        print(num)\n",
    "        count += 1\n",
    "    num += 1"
   ]
  },
  {
   "cell_type": "markdown",
   "metadata": {},
   "source": [
    "# 2. Functions\n",
    "---"
   ]
  },
  {
   "cell_type": "markdown",
   "metadata": {},
   "source": [
    "## 2.1. Viết hàm nhận vào một số nguyên, trả về giá trị True nếu nó là số nguyên tố, và False nếu nó không phải là số nguyên tố.\n",
    "\n",
    "Sử dụng code của Bài 1.3"
   ]
  },
  {
   "cell_type": "code",
   "execution_count": 6,
   "metadata": {},
   "outputs": [],
   "source": [
    "\n",
    "def prime(n):\n",
    "    ### START CODE HERE ###\n",
    "    # Sử dụng code của Bài 1.3\n",
    "    if n==1:\n",
    "        return False\n",
    "    #Su dung vong lap for de duyet cac so tu 2 den can bac hai cua n\n",
    "    for i in range(2, int(math.sqrt(n))+1):\n",
    "        #Kiem tra tinh chia het\n",
    "        if n % i == 0:\n",
    "            return False\n",
    "    return True\n",
    "    ### END CODE HERE ###"
   ]
  },
  {
   "cell_type": "markdown",
   "metadata": {},
   "source": [
    "Kiểm tra hoạt động của hàm prime(n) đã viết"
   ]
  },
  {
   "cell_type": "code",
   "execution_count": 7,
   "metadata": {},
   "outputs": [
    {
     "name": "stdout",
     "output_type": "stream",
     "text": [
      "5 là số nguyên tố\n"
     ]
    }
   ],
   "source": [
    "import math\n",
    "n = int(input(\"Nhập vào một số:\"))\n",
    "if prime(n):\n",
    "    print(n, 'là số nguyên tố')\n",
    "else:\n",
    "    print(n, 'không phải là số nguyên tố')"
   ]
  },
  {
   "cell_type": "markdown",
   "metadata": {},
   "source": [
    "## 2.2. Viết hàm nhận vào một số nguyên, trả về giá trị True nếu nó là số Armstrong, và False nếu nó không phải là số Armstrong.\n",
    "\n",
    "Sử dụng code của Bài 1.5"
   ]
  },
  {
   "cell_type": "code",
   "execution_count": 1,
   "metadata": {},
   "outputs": [],
   "source": [
    "def armstrong(n):\n",
    "    ### START CODE HERE ### \n",
    "    # Sử dụng code của Bài 1.5\n",
    "    order = len(str(n))\n",
    "    # Calculate the sum of each digit raised to the power n\n",
    "    sum = 0\n",
    "    temp = n\n",
    "    while temp > 0:\n",
    "        digit = temp % 10\n",
    "        sum += digit ** order\n",
    "        temp //= 10\n",
    "    if n == sum:\n",
    "        return True\n",
    "    else:\n",
    "        return False\n",
    "    ### END CODE HERE ###"
   ]
  },
  {
   "cell_type": "markdown",
   "metadata": {},
   "source": [
    "Kiểm tra hoạt động của hàm armstrong(n) đã viết"
   ]
  },
  {
   "cell_type": "code",
   "execution_count": 2,
   "metadata": {},
   "outputs": [
    {
     "name": "stdout",
     "output_type": "stream",
     "text": [
      "153 là số armstrong\n"
     ]
    }
   ],
   "source": [
    "n = 153\n",
    "# n = 35\n",
    "if armstrong(n):\n",
    "    print(n, 'là số armstrong')\n",
    "else:\n",
    "    print(n, 'không phải là số armstrong')"
   ]
  },
  {
   "cell_type": "markdown",
   "metadata": {},
   "source": [
    "## 2.3. Sử dụng hàm Lambda để in ra 10 lũy thừa đầu tiên của 2."
   ]
  },
  {
   "cell_type": "code",
   "execution_count": 16,
   "metadata": {},
   "outputs": [
    {
     "name": "stdout",
     "output_type": "stream",
     "text": [
      "1\n",
      "2\n",
      "4\n",
      "8\n",
      "16\n",
      "32\n",
      "64\n",
      "128\n",
      "256\n",
      "512\n"
     ]
    }
   ],
   "source": [
    "# Display the powers of 2 using anonymous function\n",
    "pow = lambda x, y: x ** y\n",
    "for i in range(10):\n",
    "    print(pow(2, i))\n",
    "\n",
    "\n",
    "# use anonymous/lambda function\n"
   ]
  },
  {
   "cell_type": "markdown",
   "metadata": {},
   "source": [
    "## 2.4. Sử dụng hàm Lambda để in ra 10 số chính phương đầu tiên"
   ]
  },
  {
   "cell_type": "code",
   "execution_count": null,
   "metadata": {},
   "outputs": [],
   "source": [
    "terms = 10\n",
    "\n",
    "# use anonymous function\n",
    "\n",
    "    ### START CODE HERE ### \n",
    "    # Sử dụng kết hợp với hàm map()\n",
    "\n",
    "    ### END CODE HERE ###\n",
    "\n",
    "for i in range(terms):\n",
    "    print(result[i])"
   ]
  },
  {
   "cell_type": "markdown",
   "metadata": {},
   "source": [
    "## 2.5. Sử dụng hàm Lambda để in ra các số lẻ trong một dãy"
   ]
  },
  {
   "cell_type": "code",
   "execution_count": 2,
   "metadata": {},
   "outputs": [
    {
     "name": "stdout",
     "output_type": "stream",
     "text": [
      "Các số lẻ trong dãy [65, 39, 339, 221]\n"
     ]
    }
   ],
   "source": [
    "# Take a list of numbers\n",
    "my_list = [12, 65, 54, 39, 102, 339, 221,]\n",
    "\n",
    "# use anonymous function to filter\n",
    "result = list(filter(lambda x: (x % 2 == 1), my_list))\n",
    "\n",
    "# display the result\n",
    "print(\"Các số lẻ trong dãy\",result)"
   ]
  },
  {
   "cell_type": "markdown",
   "metadata": {},
   "source": [
    "## 2.5. Sử dụng hàm filter() để in ra các số nguyên tố trong một dãy"
   ]
  },
  {
   "cell_type": "code",
   "execution_count": 18,
   "metadata": {},
   "outputs": [
    {
     "name": "stdout",
     "output_type": "stream",
     "text": [
      "Các số nguyên tố trong dãy 65\n",
      "Các số nguyên tố trong dãy 39\n",
      "Các số nguyên tố trong dãy 339\n",
      "Các số nguyên tố trong dãy 221\n"
     ]
    }
   ],
   "source": [
    "# Take a list of numbers\n",
    "my_list = [12, 65, 54, 39, 102, 339, 221,]\n",
    "\n",
    "# định nghĩa hàm nhận vào một số nguyên,\n",
    "# trả về giá trị True nếu nó là số nguyên tố,\n",
    "# và False nếu nó không phải là số nguyên tố.\n",
    "def prime(n):\n",
    "    ### START CODE HERE ### \n",
    "    if n == 1:\n",
    "        return False\n",
    "    for i in range(2, int(math.sqrt(n))+1):\n",
    "        #Kiem tra tinh chia het\n",
    "        if n % i == 0:\n",
    "            return False\n",
    "        return True\n",
    "\n",
    "    ### END CODE HERE ###\n",
    "    \n",
    "# use filter()\n",
    "    ### START CODE HERE ### \n",
    "primeNumber = filter(prime, my_list)\n",
    "for prime in primeNumber:\n",
    "    print(\"Các số nguyên tố trong dãy\", prime)\n",
    "\n",
    "    ### END CODE HERE ###\n",
    "    \n",
    "# display the result\n"
   ]
  }
 ],
 "metadata": {
  "kernelspec": {
   "display_name": "Python 3",
   "language": "python",
   "name": "python3"
  },
  "language_info": {
   "codemirror_mode": {
    "name": "ipython",
    "version": 3
   },
   "file_extension": ".py",
   "mimetype": "text/x-python",
   "name": "python",
   "nbconvert_exporter": "python",
   "pygments_lexer": "ipython3",
   "version": "3.11.5"
  }
 },
 "nbformat": 4,
 "nbformat_minor": 2
}
